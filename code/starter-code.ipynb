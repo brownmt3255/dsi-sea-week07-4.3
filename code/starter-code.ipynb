{
 "cells": [
  {
   "cell_type": "markdown",
   "metadata": {},
   "source": [
    "# Import Standard Libraries #"
   ]
  },
  {
   "cell_type": "code",
   "execution_count": 243,
   "metadata": {
    "collapsed": true
   },
   "outputs": [],
   "source": [
    "import pandas as pd \n",
    "import numpy as np\n",
    "import random\n",
    "from datetime import datetime\n",
    "from IPython.core.display import Image, HTML\n",
    "\n",
    "import seaborn as sns\n",
    "import matplotlib.pyplot as plt\n",
    "import matplotlib\n",
    "%matplotlib inline \n",
    "matplotlib.style.use('ggplot')"
   ]
  },
  {
   "cell_type": "markdown",
   "metadata": {},
   "source": [
    "# Load Data (CSV, API, HTML, Mongo-DB, etc) #"
   ]
  },
  {
   "cell_type": "markdown",
   "metadata": {},
   "source": [
    "# 1. Pull the training set from the newsgroup data\n",
    "The data has 20 different categories. Try to shrink down to smaller number of groups according to the definition here:\n",
    "http://scikit-learn.org/stable/datasets/twenty_newsgroups.html"
   ]
  },
  {
   "cell_type": "code",
   "execution_count": 244,
   "metadata": {
    "collapsed": false
   },
   "outputs": [],
   "source": [
    "from sklearn import datasets\n",
    "\n",
    "df = datasets.fetch_20newsgroups(remove =['headers','footers','quotes'],categories=['talk.religion.misc',\n",
    "                                                                                    'rec.sport.baseball',\n",
    "                                                                                    'comp.sys.mac.hardware',\n",
    "                                                                                    'sci.space'])"
   ]
  },
  {
   "cell_type": "markdown",
   "metadata": {},
   "source": [
    "# Assign X,y Variables #"
   ]
  },
  {
   "cell_type": "code",
   "execution_count": 245,
   "metadata": {
    "collapsed": false
   },
   "outputs": [],
   "source": [
    "X = df.data # Text data (emails, etc)\n",
    "y = df.target #Newsgroup"
   ]
  },
  {
   "cell_type": "markdown",
   "metadata": {},
   "source": [
    "# Split into Training/Test Data #"
   ]
  },
  {
   "cell_type": "code",
   "execution_count": 246,
   "metadata": {
    "collapsed": true
   },
   "outputs": [],
   "source": [
    "from sklearn.model_selection import train_test_split\n",
    "X_train, X_test, y_train, y_test = train_test_split(X, y, test_size=0.30)"
   ]
  },
  {
   "cell_type": "markdown",
   "metadata": {},
   "source": [
    "# Feature Engineering - Create Vectorizer #"
   ]
  },
  {
   "cell_type": "code",
   "execution_count": 247,
   "metadata": {
    "collapsed": false
   },
   "outputs": [
    {
     "name": "stdout",
     "output_type": "stream",
     "text": [
      "hanging        3.358159\n",
      "increase       9.487374\n",
      "example        3.652832\n",
      "want           4.431110\n",
      "wrong          3.166526\n",
      "telescope      3.531354\n",
      "series         1.927517\n",
      "allah          2.207434\n",
      "message        1.919111\n",
      "yesterday      3.084960\n",
      "speeds        14.731754\n",
      "purpose        3.041413\n",
      "service        1.701341\n",
      "needed         1.914565\n",
      "came           2.400931\n",
      "saying         8.760202\n",
      "lots           8.751338\n",
      "nature         3.432227\n",
      "country        2.768202\n",
      "stadium        2.759603\n",
      "dave           6.823193\n",
      "worked         3.800769\n",
      "european       2.673938\n",
      "voyager        4.608523\n",
      "defensive      1.252305\n",
      "facility       3.992149\n",
      "support        3.832780\n",
      "inside         2.139920\n",
      "holy           1.274231\n",
      "models         7.353179\n",
      "                ...    \n",
      "christ         3.321721\n",
      "steve          2.062684\n",
      "issues         0.822276\n",
      "reds           3.778826\n",
      "apple          2.440700\n",
      "apply          4.934245\n",
      "sort           6.468439\n",
      "serial         7.250273\n",
      "united         4.362256\n",
      "looks         18.108161\n",
      "choose         3.221006\n",
      "practice       5.864894\n",
      "satellites     7.406273\n",
      "product       12.007570\n",
      "york           4.236401\n",
      "agency         5.365013\n",
      "looked         6.498278\n",
      "cache          3.680675\n",
      "ones           7.079076\n",
      "words          3.283044\n",
      "hitter         9.045168\n",
      "view           2.318669\n",
      "rocket         4.976970\n",
      "boot           5.586416\n",
      "lead          28.331644\n",
      "getting       16.765615\n",
      "funds          4.813771\n",
      "record         4.946918\n",
      "book           5.542545\n",
      "june           0.965074\n",
      "dtype: float64\n"
     ]
    },
    {
     "data": {
      "text/html": [
       "<div>\n",
       "<table border=\"1\" class=\"dataframe\">\n",
       "  <thead>\n",
       "    <tr style=\"text-align: right;\">\n",
       "      <th></th>\n",
       "      <th>hanging</th>\n",
       "      <th>increase</th>\n",
       "      <th>example</th>\n",
       "      <th>want</th>\n",
       "      <th>wrong</th>\n",
       "      <th>telescope</th>\n",
       "      <th>series</th>\n",
       "      <th>allah</th>\n",
       "      <th>message</th>\n",
       "      <th>yesterday</th>\n",
       "      <th>...</th>\n",
       "      <th>hitter</th>\n",
       "      <th>view</th>\n",
       "      <th>rocket</th>\n",
       "      <th>boot</th>\n",
       "      <th>lead</th>\n",
       "      <th>getting</th>\n",
       "      <th>funds</th>\n",
       "      <th>record</th>\n",
       "      <th>book</th>\n",
       "      <th>june</th>\n",
       "    </tr>\n",
       "  </thead>\n",
       "  <tbody>\n",
       "    <tr>\n",
       "      <th>0</th>\n",
       "      <td>0.0</td>\n",
       "      <td>0.0</td>\n",
       "      <td>0.0</td>\n",
       "      <td>0.0</td>\n",
       "      <td>0.0</td>\n",
       "      <td>0.0</td>\n",
       "      <td>0.0</td>\n",
       "      <td>0.0</td>\n",
       "      <td>0.0</td>\n",
       "      <td>0.0</td>\n",
       "      <td>...</td>\n",
       "      <td>0.0</td>\n",
       "      <td>0.0</td>\n",
       "      <td>0.0</td>\n",
       "      <td>0.0</td>\n",
       "      <td>0.0</td>\n",
       "      <td>0.0</td>\n",
       "      <td>0.0</td>\n",
       "      <td>0.0</td>\n",
       "      <td>0.0</td>\n",
       "      <td>0.0</td>\n",
       "    </tr>\n",
       "    <tr>\n",
       "      <th>1</th>\n",
       "      <td>0.0</td>\n",
       "      <td>0.0</td>\n",
       "      <td>0.0</td>\n",
       "      <td>0.0</td>\n",
       "      <td>0.0</td>\n",
       "      <td>0.0</td>\n",
       "      <td>0.0</td>\n",
       "      <td>0.0</td>\n",
       "      <td>0.0</td>\n",
       "      <td>0.0</td>\n",
       "      <td>...</td>\n",
       "      <td>0.0</td>\n",
       "      <td>0.0</td>\n",
       "      <td>0.0</td>\n",
       "      <td>0.0</td>\n",
       "      <td>0.0</td>\n",
       "      <td>0.0</td>\n",
       "      <td>0.0</td>\n",
       "      <td>0.0</td>\n",
       "      <td>0.0</td>\n",
       "      <td>0.0</td>\n",
       "    </tr>\n",
       "    <tr>\n",
       "      <th>2</th>\n",
       "      <td>0.0</td>\n",
       "      <td>0.0</td>\n",
       "      <td>0.0</td>\n",
       "      <td>0.0</td>\n",
       "      <td>0.0</td>\n",
       "      <td>0.0</td>\n",
       "      <td>0.0</td>\n",
       "      <td>0.0</td>\n",
       "      <td>0.0</td>\n",
       "      <td>0.0</td>\n",
       "      <td>...</td>\n",
       "      <td>0.0</td>\n",
       "      <td>0.0</td>\n",
       "      <td>0.0</td>\n",
       "      <td>0.0</td>\n",
       "      <td>0.0</td>\n",
       "      <td>0.0</td>\n",
       "      <td>0.0</td>\n",
       "      <td>0.0</td>\n",
       "      <td>0.0</td>\n",
       "      <td>0.0</td>\n",
       "    </tr>\n",
       "    <tr>\n",
       "      <th>3</th>\n",
       "      <td>0.0</td>\n",
       "      <td>0.0</td>\n",
       "      <td>0.0</td>\n",
       "      <td>0.0</td>\n",
       "      <td>0.0</td>\n",
       "      <td>0.0</td>\n",
       "      <td>0.0</td>\n",
       "      <td>0.0</td>\n",
       "      <td>0.0</td>\n",
       "      <td>0.0</td>\n",
       "      <td>...</td>\n",
       "      <td>0.0</td>\n",
       "      <td>0.0</td>\n",
       "      <td>0.0</td>\n",
       "      <td>0.0</td>\n",
       "      <td>0.0</td>\n",
       "      <td>0.0</td>\n",
       "      <td>0.0</td>\n",
       "      <td>0.0</td>\n",
       "      <td>0.0</td>\n",
       "      <td>0.0</td>\n",
       "    </tr>\n",
       "    <tr>\n",
       "      <th>4</th>\n",
       "      <td>0.0</td>\n",
       "      <td>0.0</td>\n",
       "      <td>0.0</td>\n",
       "      <td>0.0</td>\n",
       "      <td>0.0</td>\n",
       "      <td>0.0</td>\n",
       "      <td>0.0</td>\n",
       "      <td>0.0</td>\n",
       "      <td>0.0</td>\n",
       "      <td>0.0</td>\n",
       "      <td>...</td>\n",
       "      <td>0.0</td>\n",
       "      <td>0.0</td>\n",
       "      <td>0.0</td>\n",
       "      <td>0.0</td>\n",
       "      <td>0.0</td>\n",
       "      <td>0.0</td>\n",
       "      <td>0.0</td>\n",
       "      <td>0.0</td>\n",
       "      <td>0.0</td>\n",
       "      <td>0.0</td>\n",
       "    </tr>\n",
       "  </tbody>\n",
       "</table>\n",
       "<p>5 rows × 1000 columns</p>\n",
       "</div>"
      ],
      "text/plain": [
       "   hanging  increase  example  want  wrong  telescope  series  allah  message  \\\n",
       "0      0.0       0.0      0.0   0.0    0.0        0.0     0.0    0.0      0.0   \n",
       "1      0.0       0.0      0.0   0.0    0.0        0.0     0.0    0.0      0.0   \n",
       "2      0.0       0.0      0.0   0.0    0.0        0.0     0.0    0.0      0.0   \n",
       "3      0.0       0.0      0.0   0.0    0.0        0.0     0.0    0.0      0.0   \n",
       "4      0.0       0.0      0.0   0.0    0.0        0.0     0.0    0.0      0.0   \n",
       "\n",
       "   yesterday  ...   hitter  view  rocket  boot  lead  getting  funds  record  \\\n",
       "0        0.0  ...      0.0   0.0     0.0   0.0   0.0      0.0    0.0     0.0   \n",
       "1        0.0  ...      0.0   0.0     0.0   0.0   0.0      0.0    0.0     0.0   \n",
       "2        0.0  ...      0.0   0.0     0.0   0.0   0.0      0.0    0.0     0.0   \n",
       "3        0.0  ...      0.0   0.0     0.0   0.0   0.0      0.0    0.0     0.0   \n",
       "4        0.0  ...      0.0   0.0     0.0   0.0   0.0      0.0    0.0     0.0   \n",
       "\n",
       "   book  june  \n",
       "0   0.0   0.0  \n",
       "1   0.0   0.0  \n",
       "2   0.0   0.0  \n",
       "3   0.0   0.0  \n",
       "4   0.0   0.0  \n",
       "\n",
       "[5 rows x 1000 columns]"
      ]
     },
     "execution_count": 247,
     "metadata": {},
     "output_type": "execute_result"
    }
   ],
   "source": [
    "from sklearn.feature_extraction.text import TfidfVectorizer\n",
    "\n",
    "vectorizer_tfidf = TfidfVectorizer(max_df=.5, max_features=1000,\n",
    "                                 min_df=2, stop_words='english',\n",
    "                                 use_idf=True, sublinear_tf=False, \n",
    "                                 analyzer = 'word',\n",
    "                                 token_pattern = '[a-zA-Z]{4,50}',\n",
    "                            )\n",
    "\n",
    "X_train_ = vectorizer_tfidf.fit_transform(X_train)\n",
    "\n",
    "# Visualize the vectorizer (Rows are newsgroups, columns are earch word)\n",
    "df_vectorizer_data = vectorizer_tfidf.transform(X_train).todense()\n",
    "df_vectorizer = pd.DataFrame(df_vectorizer_data, columns = list(vectorizer_tfidf.vocabulary_))\n",
    "\n",
    "print df_vectorizer.sum()\n",
    "df_vectorizer.head()"
   ]
  },
  {
   "cell_type": "markdown",
   "metadata": {},
   "source": [
    "# Reduce Features - Truncated SVD + Normalizer #"
   ]
  },
  {
   "cell_type": "code",
   "execution_count": 248,
   "metadata": {
    "collapsed": false
   },
   "outputs": [
    {
     "name": "stdout",
     "output_type": "stream",
     "text": [
      "Explained variance with LSA\n",
      "0.71525710642\n"
     ]
    }
   ],
   "source": [
    "from sklearn.decomposition import TruncatedSVD\n",
    "from sklearn.preprocessing import Normalizer\n",
    "from sklearn.pipeline import make_pipeline\n",
    "\n",
    "svd = TruncatedSVD(300)\n",
    "normalizer = Normalizer(copy=False)\n",
    "pipeline_lsa = make_pipeline(svd, normalizer)\n",
    "\n",
    "X_train_ = pipeline_lsa.fit_transform(X_train_)\n",
    "\n",
    "print \"Explained variance with LSA\"\n",
    "print svd.explained_variance_ratio_.sum()\n"
   ]
  },
  {
   "cell_type": "raw",
   "metadata": {},
   "source": [
    "Plot the cummulative variace from the terms. x-axis: number of components; y-axis: cummulative variance.\n",
    "Based on the plot, decide how many principle components you need."
   ]
  },
  {
   "cell_type": "code",
   "execution_count": 249,
   "metadata": {
    "collapsed": false
   },
   "outputs": [
    {
     "data": {
      "image/png": "[encoded data removed]",
      "text/plain": [
       "<matplotlib.figure.Figure at 0x110f48d10>"
      ]
     },
     "metadata": {},
     "output_type": "display_data"
    }
   ],
   "source": [
    "plt.plot(svd.explained_variance_ratio_)\n",
    "plt.show()"
   ]
  },
  {
   "cell_type": "markdown",
   "metadata": {},
   "source": [
    "# Create and Fit Model - Kmeans Clustering Classification #"
   ]
  },
  {
   "cell_type": "code",
   "execution_count": 250,
   "metadata": {
    "collapsed": false
   },
   "outputs": [
    {
     "data": {
      "text/plain": [
       "KMeans(algorithm='auto', copy_x=True, init='k-means++', max_iter=100,\n",
       "    n_clusters=4, n_init=30, n_jobs=1, precompute_distances='auto',\n",
       "    random_state=None, tol=0.0001, verbose=0)"
      ]
     },
     "execution_count": 250,
     "metadata": {},
     "output_type": "execute_result"
    }
   ],
   "source": [
    "from sklearn.cluster import KMeans\n",
    "model_kmeans = KMeans(n_clusters=4, init='k-means++', max_iter=100, n_init=30,verbose=0)\n",
    "model_kmeans_ = KMeans(n_clusters=4, init='k-means++', max_iter=100, n_init=30,verbose=0)\n",
    "model_kmeans_.fit(X_train_)"
   ]
  },
  {
   "cell_type": "raw",
   "metadata": {},
   "source": [
    "What are top 50 most useful terms based on article itself? Are those terms similar to the top 50 from step 2?"
   ]
  },
  {
   "cell_type": "code",
   "execution_count": 230,
   "metadata": {
    "collapsed": false
   },
   "outputs": [
    {
     "name": "stdout",
     "output_type": "stream",
     "text": [
      "0          ability\n",
      "1             able\n",
      "2       absolutely\n",
      "3      accelerator\n",
      "4           accept\n",
      "5           access\n",
      "6        according\n",
      "7         accurate\n",
      "8           action\n",
      "9          actions\n",
      "10      activities\n",
      "11            acts\n",
      "12          actual\n",
      "13        actually\n",
      "14         adapter\n",
      "16        addition\n",
      "17      additional\n",
      "18         address\n",
      "20        advanced\n",
      "22       aerospace\n",
      "25           ahead\n",
      "26        aircraft\n",
      "27           alive\n",
      "29           allow\n",
      "30         allowed\n",
      "31          allows\n",
      "38          answer\n",
      "39         answers\n",
      "40         anybody\n",
      "42      apparently\n",
      "44           apple\n",
      "45     application\n",
      "49        approach\n",
      "52            area\n",
      "66         attempt\n",
      "67       authority\n",
      "83         batting\n",
      "85         beliefs\n",
      "98            book\n",
      "115           came\n",
      "123           case\n",
      "125        catcher\n",
      "137        changes\n",
      "140        cheaper\n",
      "191        control\n",
      "205           cubs\n",
      "221         decide\n",
      "250          doesn\n",
      "254          drive\n",
      "278         errors\n",
      "dtype: object\n"
     ]
    }
   ],
   "source": [
    "from sklearn.feature_selection import SelectKBest, f_classif\n",
    "columns = pd.Series(vectorizer_tfidf.get_feature_names())\n",
    "\n",
    "selector = SelectKBest(f_classif, k=50)\n",
    "selected_data = selector.fit_transform(X_train_,y_train)\n",
    "\n",
    "kbest = columns[selector.get_support()]\n",
    "print kbest"
   ]
  },
  {
   "cell_type": "markdown",
   "metadata": {},
   "source": [
    "# Create Pipeline (Just plug in original raw data. Automates feature engineering, scaling, etc) # "
   ]
  },
  {
   "cell_type": "code",
   "execution_count": 231,
   "metadata": {
    "collapsed": false
   },
   "outputs": [
    {
     "data": {
      "text/plain": [
       "Pipeline(steps=[('Vectorizer', TfidfVectorizer(analyzer='word', binary=False, decode_error=u'strict',\n",
       "        dtype=<type 'numpy.int64'>, encoding=u'utf-8', input=u'content',\n",
       "        lowercase=True, max_df=0.5, max_features=1000, min_df=2,\n",
       "        ngram_range=(1, 1), norm=u'l2', preprocessor=None, smooth_idf...4, n_init=30, n_jobs=1, precompute_distances='auto',\n",
       "    random_state=None, tol=0.0001, verbose=0))])"
      ]
     },
     "execution_count": 231,
     "metadata": {},
     "output_type": "execute_result"
    }
   ],
   "source": [
    "from sklearn.pipeline import Pipeline\n",
    "pipeline = Pipeline([\n",
    "        ('Vectorizer',TfidfVectorizer(max_df=.5, max_features=1000,\n",
    "                                 min_df=2, stop_words='english',\n",
    "                                 use_idf=True, sublinear_tf=False, \n",
    "                                 analyzer = 'word',\n",
    "                                 token_pattern = '[a-zA-Z]{4,50}',)),  # Turns each message into 2x2 Sparse Matrix where columns = messages, rows word 1 count, word 2 count, etc)\n",
    "        ('Reduce_Features_SVD',TruncatedSVD(300)),  # Uses weight values to create/fit model\n",
    "        ('Reduce_Features_normalizer',Normalizer(copy=False)),\n",
    "        ('model_kmeans',KMeans(n_clusters=4, init='k-means++', max_iter=100, n_init=30,verbose=0)),\n",
    "        ])\n",
    "\n",
    "pipeline.fit(X_train,y_train)  # Pass in text data and it runs the pipeline on it"
   ]
  },
  {
   "cell_type": "markdown",
   "metadata": {},
   "source": [
    "# Meaure Performance of Kmeans #"
   ]
  },
  {
   "cell_type": "markdown",
   "metadata": {},
   "source": [
    "# Print out your centroids. Look at the value for each centroid. Does each centroid represent a news group as expected #"
   ]
  },
  {
   "cell_type": "code",
   "execution_count": 232,
   "metadata": {
    "collapsed": false
   },
   "outputs": [
    {
     "name": "stdout",
     "output_type": "stream",
     "text": [
      "Categories: ['talk.religion.misc', 'rec.sport.baseball', 'comp.sys.mac.hardware', 'sci.space']\n",
      "\n",
      "\n",
      "Cluster 0:\n",
      "[u'space', u'nasa', u'shuttle', u'station', u'launch', u'like', u'earth', u'orbit', u'cost', u'program']\n",
      "Cluster 1:\n",
      "[u'year', u'team', u'game', u'baseball', u'games', u'think', u'runs', u'players', u'braves', u'season']\n",
      "Cluster 2:\n",
      "[u'apple', u'thanks', u'drive', u'problem', u'know', u'does', u'monitor', u'card', u'simms', u'video']\n",
      "Cluster 3:\n",
      "[u'just', u'like', u'think', u'people', u'know', u'does', u'time', u'good', u'jesus', u'make']\n"
     ]
    }
   ],
   "source": [
    "centroids = svd.inverse_transform(model_kmeans_.cluster_centers_).argsort()[:, ::-1]\n",
    "\n",
    "labels = vectorizer_tfidf.get_feature_names()\n",
    "\n",
    "print(\"Categories:\"), categories\n",
    "print \"\\n\"\n",
    "for i in range(4):\n",
    "    print \"Cluster %d:\" % i \n",
    "    temp = []\n",
    "    for x in centroids[i, :10]:\n",
    "        temp.append(labels[x])\n",
    "    print temp"
   ]
  },
  {
   "cell_type": "markdown",
   "metadata": {},
   "source": [
    "# Create and Visualize Predictions #"
   ]
  },
  {
   "cell_type": "code",
   "execution_count": 251,
   "metadata": {
    "collapsed": false
   },
   "outputs": [],
   "source": [
    "# Returns raw label/number value\n",
    "predictions_values = pipeline.predict(X_test)\n",
    "predictions_values_ = model_kmeans_.predict(X_train_)"
   ]
  },
  {
   "cell_type": "markdown",
   "metadata": {},
   "source": [
    "# Measure Accuracy of Predictions (R^2, CrossValPredict, Classification Report, Confusion Matrix, etc)"
   ]
  },
  {
   "cell_type": "code",
   "execution_count": 257,
   "metadata": {
    "collapsed": false
   },
   "outputs": [
    {
     "name": "stdout",
     "output_type": "stream",
     "text": [
      "Homogeneity: 0.435\n",
      "Completeness: 0.500\n",
      "V-measure: 0.466\n",
      "Adjusted Rand-Index: 0.281\n"
     ]
    }
   ],
   "source": [
    "from sklearn import metrics\n",
    "\n",
    "print \"Homogeneity: %0.3f\" % metrics.homogeneity_score(y_test,predictions_values)\n",
    "print \"Completeness: %0.3f\" % metrics.completeness_score(y_test,predictions_values)\n",
    "print \"V-measure: %0.3f\" % metrics.v_measure_score(y_test,predictions_values)\n",
    "print \"Adjusted Rand-Index: %.3f\" % metrics.adjusted_rand_score(y_test,predictions_values)"
   ]
  },
  {
   "cell_type": "markdown",
   "metadata": {},
   "source": [
    "# NOTES "
   ]
  },
  {
   "cell_type": "code",
   "execution_count": null,
   "metadata": {
    "collapsed": true
   },
   "outputs": [],
   "source": []
  }
 ],
 "metadata": {
  "anaconda-cloud": {},
  "kernelspec": {
   "display_name": "Python [default]",
   "language": "python",
   "name": "python2"
  },
  "language_info": {
   "codemirror_mode": {
    "name": "ipython",
    "version": 2
   },
   "file_extension": ".py",
   "mimetype": "text/x-python",
   "name": "python",
   "nbconvert_exporter": "python",
   "pygments_lexer": "ipython2",
   "version": "2.7.12"
  }
 },
 "nbformat": 4,
 "nbformat_minor": 1
}
